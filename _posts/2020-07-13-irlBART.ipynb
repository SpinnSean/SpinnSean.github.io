{
 "cells": [
  {
   "cell_type": "markdown",
   "metadata": {},
   "source": [
    "---\n",
    "\n",
    "title: \"BART Human Expert IRl\n",
    "excerpt: \"A look into the reward landscape for human learners in this risky decision making task.\"\n",
    "date: 2020-07-13\n",
    "tags: [decision making, reinforcement learning, computational modelling, irl]\n",
    "header: #\n",
    "mathjax: \"true\"\n",
    "\n",
    "---"
   ]
  },
  {
   "cell_type": "markdown",
   "metadata": {},
   "source": [
    "# Using Inverse Reinforcement Learning (IRL) to model the BART\n",
    "\n",
    "The Balloon Analogue Risk Task is **description**."
   ]
  },
  {
   "cell_type": "markdown",
   "metadata": {},
   "source": [
    "## Theory of IRL\n",
    "\n",
    "In the context of reinforcement learning, our main interest is in uncovering a policy that performs optimally, or close enough. For this to be possible, the agent has receives feedback after interacting with the environment which guides the learning process. However the feedback is arbitrary; we decide what constitutes a good decision and a bad one based on the reward landscape defined by the environment hosting the agent.\n",
    "\n",
    "Alternatively, we could forgo the specification of the reward landscape and let the agent learn from observing actions taken by a human expert. Training an agent this way allows us to uncover what features are most valuable or informative in human decision making by using the trained agent as a human proxy."
   ]
  },
  {
   "cell_type": "markdown",
   "metadata": {},
   "source": [
    "## The [BART](http://www.impulsivity.org/measurement/BART)\n",
    "\n",
    "<blockquote>The Balloon Analogue Risk Task (BART) is a computerized measure of risk taking behavior. The BART models real-world risk behavior through the conceptual frame of balancing the potential for reward versus loss. In the task, the participant is presented with a balloon and offered the chance to earn money by pumping the balloon up by clicking a button. Each click causes the balloon to incrementally inflate and money to be added to a counter up until some threshold, at which point the balloon is over inflated and explodes. Thus, each pump confers greater risk, but also greater potential reward. If the participant chooses to cash-out prior to the balloon exploding then they collect the money earned for that trail, but if balloon explodes earnings for that trial are lost. Participants are not informed about the balloons breakpoints; the absence of this information allows for testing both participants' initial responses to the task and changes in responding as they gain experience with the task contingencies. Risk taking is a related, but phenomenologically distinct process from impulsivity.</blockquote>\n",
    "\n",
    "Below is an example of what participants see on the screen, and you can play a version of the game here:\n",
    "[PLAY](https://www.brainturk.com/bart)\n",
    "<img src=\"{{ site.url }}{{ site.baseurl }}/images/irlBART/bart_screen.png\" alt=\"bart computer screen\">\n",
    "\n",
    "[More info](https://psycnet.apa.org/fulltext/2002-01194-001.pdf)\n"
   ]
  },
  {
   "attachments": {},
   "cell_type": "markdown",
   "metadata": {},
   "source": []
  },
  {
   "cell_type": "code",
   "execution_count": null,
   "metadata": {},
   "outputs": [],
   "source": []
  }
 ],
 "metadata": {
  "kernelspec": {
   "display_name": "Python 3",
   "language": "python",
   "name": "python3"
  },
  "language_info": {
   "codemirror_mode": {
    "name": "ipython",
    "version": 3
   },
   "file_extension": ".py",
   "mimetype": "text/x-python",
   "name": "python",
   "nbconvert_exporter": "python",
   "pygments_lexer": "ipython3",
   "version": "3.8.3"
  }
 },
 "nbformat": 4,
 "nbformat_minor": 4
}
